{
  "nbformat": 4,
  "nbformat_minor": 0,
  "metadata": {
    "colab": {
      "name": "farmer_dummy_data_analysis.ipynb",
      "provenance": [],
      "collapsed_sections": []
    },
    "kernelspec": {
      "name": "python3",
      "display_name": "Python 3"
    },
    "language_info": {
      "name": "python"
    }
  },
  "cells": [
    {
      "cell_type": "markdown",
      "source": [
        "Read Data"
      ],
      "metadata": {
        "id": "HV5lV_ADVCjQ"
      }
    },
    {
      "cell_type": "code",
      "source": [
        "import pandas as pd\n",
        "df = pd.read_csv('data.csv')"
      ],
      "metadata": {
        "id": "cruGkBYyO7NZ"
      },
      "execution_count": 1,
      "outputs": []
    },
    {
      "cell_type": "markdown",
      "source": [
        "Print the Head of Data"
      ],
      "metadata": {
        "id": "23e7m1SJVChG"
      }
    },
    {
      "cell_type": "code",
      "source": [
        "df.head()"
      ],
      "metadata": {
        "colab": {
          "base_uri": "https://localhost:8080/",
          "height": 473
        },
        "id": "Zj33eRdHPoe_",
        "outputId": "a6bffd4c-3b6a-432d-95ab-0fb53b1b66c5"
      },
      "execution_count": 2,
      "outputs": [
        {
          "output_type": "execute_result",
          "data": {
            "text/plain": [
              "   Place_id    Place_name                               Name  start_date  \\\n",
              "0  45718946   Ludwigslust                       Willy Kramer  2000-01-13   \n",
              "1  56708462     Göppingen                  Delia Fiebig-Hahn  1987-08-04   \n",
              "2  15972835         Moers  Frank-Peter Losekann-Hölzenbecher  1978-12-30   \n",
              "3  46139207   Hoyerswerda                      Reimund Kambs  2014-07-06   \n",
              "4  98317332  Feuchtwangen              Janett Ziegert-Fiebig  2014-12-26   \n",
              "\n",
              "     end_date start_time  end_time watering_time  Plants    status  ...  \\\n",
              "0  1986-01-15   03:11:12  09:15:19      16:43:50     814      Paid  ...   \n",
              "1  1971-05-09   02:38:45  16:34:12      20:48:42       2  Not Paid  ...   \n",
              "2  2016-02-09   15:00:44  16:51:47      00:10:11     112      Paid  ...   \n",
              "3  1971-03-11   08:55:28  23:34:23      04:14:34     755      Paid  ...   \n",
              "4  1977-07-31   14:43:29  17:41:29      11:48:29     392  Not Paid  ...   \n",
              "\n",
              "             timestamp  plantstatus      pickuptimestamp  partnerid  \\\n",
              "0  2007-02-02 01:37:24       Cancel  2001-12-28 22:15:13        997   \n",
              "1  2013-01-28 05:05:42       Cancel  2021-10-18 14:10:00        404   \n",
              "2  2020-02-25 01:09:12       Cancel  2016-06-03 19:00:12        556   \n",
              "3  1995-06-08 00:41:05       Cancel  1993-08-30 12:00:26        659   \n",
              "4  1980-02-23 09:25:29       Cancel  1983-05-27 11:06:19        793   \n",
              "\n",
              "  marketdata farmerid.1    firstname               lastname   birthdate gender  \n",
              "0        620        868        Willy                 Kramer  1998-04-25      F  \n",
              "1        991        391        Delia            Fiebig-Hahn  1994-07-06      F  \n",
              "2        657        239  Frank-Peter  Losekann-Hölzenbecher  2002-08-26      F  \n",
              "3        558         68      Reimund                  Kambs  1997-05-18      F  \n",
              "4        582        699       Janett         Ziegert-Fiebig  1977-08-24      F  \n",
              "\n",
              "[5 rows x 35 columns]"
            ],
            "text/html": [
              "\n",
              "  <div id=\"df-70a6ecf9-b865-4233-b623-780b05a85e4a\">\n",
              "    <div class=\"colab-df-container\">\n",
              "      <div>\n",
              "<style scoped>\n",
              "    .dataframe tbody tr th:only-of-type {\n",
              "        vertical-align: middle;\n",
              "    }\n",
              "\n",
              "    .dataframe tbody tr th {\n",
              "        vertical-align: top;\n",
              "    }\n",
              "\n",
              "    .dataframe thead th {\n",
              "        text-align: right;\n",
              "    }\n",
              "</style>\n",
              "<table border=\"1\" class=\"dataframe\">\n",
              "  <thead>\n",
              "    <tr style=\"text-align: right;\">\n",
              "      <th></th>\n",
              "      <th>Place_id</th>\n",
              "      <th>Place_name</th>\n",
              "      <th>Name</th>\n",
              "      <th>start_date</th>\n",
              "      <th>end_date</th>\n",
              "      <th>start_time</th>\n",
              "      <th>end_time</th>\n",
              "      <th>watering_time</th>\n",
              "      <th>Plants</th>\n",
              "      <th>status</th>\n",
              "      <th>...</th>\n",
              "      <th>timestamp</th>\n",
              "      <th>plantstatus</th>\n",
              "      <th>pickuptimestamp</th>\n",
              "      <th>partnerid</th>\n",
              "      <th>marketdata</th>\n",
              "      <th>farmerid.1</th>\n",
              "      <th>firstname</th>\n",
              "      <th>lastname</th>\n",
              "      <th>birthdate</th>\n",
              "      <th>gender</th>\n",
              "    </tr>\n",
              "  </thead>\n",
              "  <tbody>\n",
              "    <tr>\n",
              "      <th>0</th>\n",
              "      <td>45718946</td>\n",
              "      <td>Ludwigslust</td>\n",
              "      <td>Willy Kramer</td>\n",
              "      <td>2000-01-13</td>\n",
              "      <td>1986-01-15</td>\n",
              "      <td>03:11:12</td>\n",
              "      <td>09:15:19</td>\n",
              "      <td>16:43:50</td>\n",
              "      <td>814</td>\n",
              "      <td>Paid</td>\n",
              "      <td>...</td>\n",
              "      <td>2007-02-02 01:37:24</td>\n",
              "      <td>Cancel</td>\n",
              "      <td>2001-12-28 22:15:13</td>\n",
              "      <td>997</td>\n",
              "      <td>620</td>\n",
              "      <td>868</td>\n",
              "      <td>Willy</td>\n",
              "      <td>Kramer</td>\n",
              "      <td>1998-04-25</td>\n",
              "      <td>F</td>\n",
              "    </tr>\n",
              "    <tr>\n",
              "      <th>1</th>\n",
              "      <td>56708462</td>\n",
              "      <td>Göppingen</td>\n",
              "      <td>Delia Fiebig-Hahn</td>\n",
              "      <td>1987-08-04</td>\n",
              "      <td>1971-05-09</td>\n",
              "      <td>02:38:45</td>\n",
              "      <td>16:34:12</td>\n",
              "      <td>20:48:42</td>\n",
              "      <td>2</td>\n",
              "      <td>Not Paid</td>\n",
              "      <td>...</td>\n",
              "      <td>2013-01-28 05:05:42</td>\n",
              "      <td>Cancel</td>\n",
              "      <td>2021-10-18 14:10:00</td>\n",
              "      <td>404</td>\n",
              "      <td>991</td>\n",
              "      <td>391</td>\n",
              "      <td>Delia</td>\n",
              "      <td>Fiebig-Hahn</td>\n",
              "      <td>1994-07-06</td>\n",
              "      <td>F</td>\n",
              "    </tr>\n",
              "    <tr>\n",
              "      <th>2</th>\n",
              "      <td>15972835</td>\n",
              "      <td>Moers</td>\n",
              "      <td>Frank-Peter Losekann-Hölzenbecher</td>\n",
              "      <td>1978-12-30</td>\n",
              "      <td>2016-02-09</td>\n",
              "      <td>15:00:44</td>\n",
              "      <td>16:51:47</td>\n",
              "      <td>00:10:11</td>\n",
              "      <td>112</td>\n",
              "      <td>Paid</td>\n",
              "      <td>...</td>\n",
              "      <td>2020-02-25 01:09:12</td>\n",
              "      <td>Cancel</td>\n",
              "      <td>2016-06-03 19:00:12</td>\n",
              "      <td>556</td>\n",
              "      <td>657</td>\n",
              "      <td>239</td>\n",
              "      <td>Frank-Peter</td>\n",
              "      <td>Losekann-Hölzenbecher</td>\n",
              "      <td>2002-08-26</td>\n",
              "      <td>F</td>\n",
              "    </tr>\n",
              "    <tr>\n",
              "      <th>3</th>\n",
              "      <td>46139207</td>\n",
              "      <td>Hoyerswerda</td>\n",
              "      <td>Reimund Kambs</td>\n",
              "      <td>2014-07-06</td>\n",
              "      <td>1971-03-11</td>\n",
              "      <td>08:55:28</td>\n",
              "      <td>23:34:23</td>\n",
              "      <td>04:14:34</td>\n",
              "      <td>755</td>\n",
              "      <td>Paid</td>\n",
              "      <td>...</td>\n",
              "      <td>1995-06-08 00:41:05</td>\n",
              "      <td>Cancel</td>\n",
              "      <td>1993-08-30 12:00:26</td>\n",
              "      <td>659</td>\n",
              "      <td>558</td>\n",
              "      <td>68</td>\n",
              "      <td>Reimund</td>\n",
              "      <td>Kambs</td>\n",
              "      <td>1997-05-18</td>\n",
              "      <td>F</td>\n",
              "    </tr>\n",
              "    <tr>\n",
              "      <th>4</th>\n",
              "      <td>98317332</td>\n",
              "      <td>Feuchtwangen</td>\n",
              "      <td>Janett Ziegert-Fiebig</td>\n",
              "      <td>2014-12-26</td>\n",
              "      <td>1977-07-31</td>\n",
              "      <td>14:43:29</td>\n",
              "      <td>17:41:29</td>\n",
              "      <td>11:48:29</td>\n",
              "      <td>392</td>\n",
              "      <td>Not Paid</td>\n",
              "      <td>...</td>\n",
              "      <td>1980-02-23 09:25:29</td>\n",
              "      <td>Cancel</td>\n",
              "      <td>1983-05-27 11:06:19</td>\n",
              "      <td>793</td>\n",
              "      <td>582</td>\n",
              "      <td>699</td>\n",
              "      <td>Janett</td>\n",
              "      <td>Ziegert-Fiebig</td>\n",
              "      <td>1977-08-24</td>\n",
              "      <td>F</td>\n",
              "    </tr>\n",
              "  </tbody>\n",
              "</table>\n",
              "<p>5 rows × 35 columns</p>\n",
              "</div>\n",
              "      <button class=\"colab-df-convert\" onclick=\"convertToInteractive('df-70a6ecf9-b865-4233-b623-780b05a85e4a')\"\n",
              "              title=\"Convert this dataframe to an interactive table.\"\n",
              "              style=\"display:none;\">\n",
              "        \n",
              "  <svg xmlns=\"http://www.w3.org/2000/svg\" height=\"24px\"viewBox=\"0 0 24 24\"\n",
              "       width=\"24px\">\n",
              "    <path d=\"M0 0h24v24H0V0z\" fill=\"none\"/>\n",
              "    <path d=\"M18.56 5.44l.94 2.06.94-2.06 2.06-.94-2.06-.94-.94-2.06-.94 2.06-2.06.94zm-11 1L8.5 8.5l.94-2.06 2.06-.94-2.06-.94L8.5 2.5l-.94 2.06-2.06.94zm10 10l.94 2.06.94-2.06 2.06-.94-2.06-.94-.94-2.06-.94 2.06-2.06.94z\"/><path d=\"M17.41 7.96l-1.37-1.37c-.4-.4-.92-.59-1.43-.59-.52 0-1.04.2-1.43.59L10.3 9.45l-7.72 7.72c-.78.78-.78 2.05 0 2.83L4 21.41c.39.39.9.59 1.41.59.51 0 1.02-.2 1.41-.59l7.78-7.78 2.81-2.81c.8-.78.8-2.07 0-2.86zM5.41 20L4 18.59l7.72-7.72 1.47 1.35L5.41 20z\"/>\n",
              "  </svg>\n",
              "      </button>\n",
              "      \n",
              "  <style>\n",
              "    .colab-df-container {\n",
              "      display:flex;\n",
              "      flex-wrap:wrap;\n",
              "      gap: 12px;\n",
              "    }\n",
              "\n",
              "    .colab-df-convert {\n",
              "      background-color: #E8F0FE;\n",
              "      border: none;\n",
              "      border-radius: 50%;\n",
              "      cursor: pointer;\n",
              "      display: none;\n",
              "      fill: #1967D2;\n",
              "      height: 32px;\n",
              "      padding: 0 0 0 0;\n",
              "      width: 32px;\n",
              "    }\n",
              "\n",
              "    .colab-df-convert:hover {\n",
              "      background-color: #E2EBFA;\n",
              "      box-shadow: 0px 1px 2px rgba(60, 64, 67, 0.3), 0px 1px 3px 1px rgba(60, 64, 67, 0.15);\n",
              "      fill: #174EA6;\n",
              "    }\n",
              "\n",
              "    [theme=dark] .colab-df-convert {\n",
              "      background-color: #3B4455;\n",
              "      fill: #D2E3FC;\n",
              "    }\n",
              "\n",
              "    [theme=dark] .colab-df-convert:hover {\n",
              "      background-color: #434B5C;\n",
              "      box-shadow: 0px 1px 3px 1px rgba(0, 0, 0, 0.15);\n",
              "      filter: drop-shadow(0px 1px 2px rgba(0, 0, 0, 0.3));\n",
              "      fill: #FFFFFF;\n",
              "    }\n",
              "  </style>\n",
              "\n",
              "      <script>\n",
              "        const buttonEl =\n",
              "          document.querySelector('#df-70a6ecf9-b865-4233-b623-780b05a85e4a button.colab-df-convert');\n",
              "        buttonEl.style.display =\n",
              "          google.colab.kernel.accessAllowed ? 'block' : 'none';\n",
              "\n",
              "        async function convertToInteractive(key) {\n",
              "          const element = document.querySelector('#df-70a6ecf9-b865-4233-b623-780b05a85e4a');\n",
              "          const dataTable =\n",
              "            await google.colab.kernel.invokeFunction('convertToInteractive',\n",
              "                                                     [key], {});\n",
              "          if (!dataTable) return;\n",
              "\n",
              "          const docLinkHtml = 'Like what you see? Visit the ' +\n",
              "            '<a target=\"_blank\" href=https://colab.research.google.com/notebooks/data_table.ipynb>data table notebook</a>'\n",
              "            + ' to learn more about interactive tables.';\n",
              "          element.innerHTML = '';\n",
              "          dataTable['output_type'] = 'display_data';\n",
              "          await google.colab.output.renderOutput(dataTable, element);\n",
              "          const docLink = document.createElement('div');\n",
              "          docLink.innerHTML = docLinkHtml;\n",
              "          element.appendChild(docLink);\n",
              "        }\n",
              "      </script>\n",
              "    </div>\n",
              "  </div>\n",
              "  "
            ]
          },
          "metadata": {},
          "execution_count": 2
        }
      ]
    },
    {
      "cell_type": "markdown",
      "source": [
        ""
      ],
      "metadata": {
        "id": "0LRZhwwyWSDm"
      }
    },
    {
      "cell_type": "markdown",
      "source": [
        "We are going to describe the data in which we will get the information of count, mean, std, min and max etc of data."
      ],
      "metadata": {
        "id": "MdFmRanMWSFc"
      }
    },
    {
      "cell_type": "code",
      "source": [
        "df.describe()\n"
      ],
      "metadata": {
        "colab": {
          "base_uri": "https://localhost:8080/",
          "height": 364
        },
        "id": "mOuMCLeOPrOt",
        "outputId": "86385f6e-cc0e-4e35-9995-910ecf8f3db5"
      },
      "execution_count": 3,
      "outputs": [
        {
          "output_type": "execute_result",
          "data": {
            "text/plain": [
              "           Place_id       Plants      Zip_code      seedid  priceperseed  \\\n",
              "count  1.000000e+03  1000.000000   1000.000000  1000.00000    1000.00000   \n",
              "mean   4.994235e+07   487.262000  51176.439000   505.47400      50.25506   \n",
              "std    2.860607e+07   289.108608  28707.021563   286.04004      28.44214   \n",
              "min    8.704900e+04     0.000000    178.000000     0.00000       0.31000   \n",
              "25%    2.465654e+07   240.000000  26214.750000   274.75000      25.95250   \n",
              "50%    4.993479e+07   481.500000  52068.000000   510.50000      50.56000   \n",
              "75%    7.559743e+07   730.000000  76685.500000   759.50000      74.96250   \n",
              "max    9.995592e+07   997.000000  99831.000000   999.00000      99.96000   \n",
              "\n",
              "       competitorprices      plantid     farmerid   pricepayed    partnerid  \\\n",
              "count       1000.000000  1000.000000  1000.000000  1000.000000  1000.000000   \n",
              "mean          50.035640   508.939000   495.240000    50.260750   498.334000   \n",
              "std           28.580413   296.060857   286.311681    28.798296   294.351132   \n",
              "min            0.200000     3.000000     5.000000     0.310000     0.000000   \n",
              "25%           25.402500   252.750000   238.750000    25.430000   241.750000   \n",
              "50%           49.660000   526.000000   487.500000    49.835000   498.500000   \n",
              "75%           73.935000   772.000000   750.500000    75.002500   763.000000   \n",
              "max           99.940000   997.000000   997.000000    99.960000   999.000000   \n",
              "\n",
              "        marketdata   farmerid.1  \n",
              "count  1000.000000  1000.000000  \n",
              "mean    506.983000   495.240000  \n",
              "std     282.041565   286.311681  \n",
              "min       0.000000     5.000000  \n",
              "25%     259.750000   238.750000  \n",
              "50%     529.000000   487.500000  \n",
              "75%     735.000000   750.500000  \n",
              "max     999.000000   997.000000  "
            ],
            "text/html": [
              "\n",
              "  <div id=\"df-fbdec6d0-4ebe-4c0d-88ef-3a0c7da61012\">\n",
              "    <div class=\"colab-df-container\">\n",
              "      <div>\n",
              "<style scoped>\n",
              "    .dataframe tbody tr th:only-of-type {\n",
              "        vertical-align: middle;\n",
              "    }\n",
              "\n",
              "    .dataframe tbody tr th {\n",
              "        vertical-align: top;\n",
              "    }\n",
              "\n",
              "    .dataframe thead th {\n",
              "        text-align: right;\n",
              "    }\n",
              "</style>\n",
              "<table border=\"1\" class=\"dataframe\">\n",
              "  <thead>\n",
              "    <tr style=\"text-align: right;\">\n",
              "      <th></th>\n",
              "      <th>Place_id</th>\n",
              "      <th>Plants</th>\n",
              "      <th>Zip_code</th>\n",
              "      <th>seedid</th>\n",
              "      <th>priceperseed</th>\n",
              "      <th>competitorprices</th>\n",
              "      <th>plantid</th>\n",
              "      <th>farmerid</th>\n",
              "      <th>pricepayed</th>\n",
              "      <th>partnerid</th>\n",
              "      <th>marketdata</th>\n",
              "      <th>farmerid.1</th>\n",
              "    </tr>\n",
              "  </thead>\n",
              "  <tbody>\n",
              "    <tr>\n",
              "      <th>count</th>\n",
              "      <td>1.000000e+03</td>\n",
              "      <td>1000.000000</td>\n",
              "      <td>1000.000000</td>\n",
              "      <td>1000.00000</td>\n",
              "      <td>1000.00000</td>\n",
              "      <td>1000.000000</td>\n",
              "      <td>1000.000000</td>\n",
              "      <td>1000.000000</td>\n",
              "      <td>1000.000000</td>\n",
              "      <td>1000.000000</td>\n",
              "      <td>1000.000000</td>\n",
              "      <td>1000.000000</td>\n",
              "    </tr>\n",
              "    <tr>\n",
              "      <th>mean</th>\n",
              "      <td>4.994235e+07</td>\n",
              "      <td>487.262000</td>\n",
              "      <td>51176.439000</td>\n",
              "      <td>505.47400</td>\n",
              "      <td>50.25506</td>\n",
              "      <td>50.035640</td>\n",
              "      <td>508.939000</td>\n",
              "      <td>495.240000</td>\n",
              "      <td>50.260750</td>\n",
              "      <td>498.334000</td>\n",
              "      <td>506.983000</td>\n",
              "      <td>495.240000</td>\n",
              "    </tr>\n",
              "    <tr>\n",
              "      <th>std</th>\n",
              "      <td>2.860607e+07</td>\n",
              "      <td>289.108608</td>\n",
              "      <td>28707.021563</td>\n",
              "      <td>286.04004</td>\n",
              "      <td>28.44214</td>\n",
              "      <td>28.580413</td>\n",
              "      <td>296.060857</td>\n",
              "      <td>286.311681</td>\n",
              "      <td>28.798296</td>\n",
              "      <td>294.351132</td>\n",
              "      <td>282.041565</td>\n",
              "      <td>286.311681</td>\n",
              "    </tr>\n",
              "    <tr>\n",
              "      <th>min</th>\n",
              "      <td>8.704900e+04</td>\n",
              "      <td>0.000000</td>\n",
              "      <td>178.000000</td>\n",
              "      <td>0.00000</td>\n",
              "      <td>0.31000</td>\n",
              "      <td>0.200000</td>\n",
              "      <td>3.000000</td>\n",
              "      <td>5.000000</td>\n",
              "      <td>0.310000</td>\n",
              "      <td>0.000000</td>\n",
              "      <td>0.000000</td>\n",
              "      <td>5.000000</td>\n",
              "    </tr>\n",
              "    <tr>\n",
              "      <th>25%</th>\n",
              "      <td>2.465654e+07</td>\n",
              "      <td>240.000000</td>\n",
              "      <td>26214.750000</td>\n",
              "      <td>274.75000</td>\n",
              "      <td>25.95250</td>\n",
              "      <td>25.402500</td>\n",
              "      <td>252.750000</td>\n",
              "      <td>238.750000</td>\n",
              "      <td>25.430000</td>\n",
              "      <td>241.750000</td>\n",
              "      <td>259.750000</td>\n",
              "      <td>238.750000</td>\n",
              "    </tr>\n",
              "    <tr>\n",
              "      <th>50%</th>\n",
              "      <td>4.993479e+07</td>\n",
              "      <td>481.500000</td>\n",
              "      <td>52068.000000</td>\n",
              "      <td>510.50000</td>\n",
              "      <td>50.56000</td>\n",
              "      <td>49.660000</td>\n",
              "      <td>526.000000</td>\n",
              "      <td>487.500000</td>\n",
              "      <td>49.835000</td>\n",
              "      <td>498.500000</td>\n",
              "      <td>529.000000</td>\n",
              "      <td>487.500000</td>\n",
              "    </tr>\n",
              "    <tr>\n",
              "      <th>75%</th>\n",
              "      <td>7.559743e+07</td>\n",
              "      <td>730.000000</td>\n",
              "      <td>76685.500000</td>\n",
              "      <td>759.50000</td>\n",
              "      <td>74.96250</td>\n",
              "      <td>73.935000</td>\n",
              "      <td>772.000000</td>\n",
              "      <td>750.500000</td>\n",
              "      <td>75.002500</td>\n",
              "      <td>763.000000</td>\n",
              "      <td>735.000000</td>\n",
              "      <td>750.500000</td>\n",
              "    </tr>\n",
              "    <tr>\n",
              "      <th>max</th>\n",
              "      <td>9.995592e+07</td>\n",
              "      <td>997.000000</td>\n",
              "      <td>99831.000000</td>\n",
              "      <td>999.00000</td>\n",
              "      <td>99.96000</td>\n",
              "      <td>99.940000</td>\n",
              "      <td>997.000000</td>\n",
              "      <td>997.000000</td>\n",
              "      <td>99.960000</td>\n",
              "      <td>999.000000</td>\n",
              "      <td>999.000000</td>\n",
              "      <td>997.000000</td>\n",
              "    </tr>\n",
              "  </tbody>\n",
              "</table>\n",
              "</div>\n",
              "      <button class=\"colab-df-convert\" onclick=\"convertToInteractive('df-fbdec6d0-4ebe-4c0d-88ef-3a0c7da61012')\"\n",
              "              title=\"Convert this dataframe to an interactive table.\"\n",
              "              style=\"display:none;\">\n",
              "        \n",
              "  <svg xmlns=\"http://www.w3.org/2000/svg\" height=\"24px\"viewBox=\"0 0 24 24\"\n",
              "       width=\"24px\">\n",
              "    <path d=\"M0 0h24v24H0V0z\" fill=\"none\"/>\n",
              "    <path d=\"M18.56 5.44l.94 2.06.94-2.06 2.06-.94-2.06-.94-.94-2.06-.94 2.06-2.06.94zm-11 1L8.5 8.5l.94-2.06 2.06-.94-2.06-.94L8.5 2.5l-.94 2.06-2.06.94zm10 10l.94 2.06.94-2.06 2.06-.94-2.06-.94-.94-2.06-.94 2.06-2.06.94z\"/><path d=\"M17.41 7.96l-1.37-1.37c-.4-.4-.92-.59-1.43-.59-.52 0-1.04.2-1.43.59L10.3 9.45l-7.72 7.72c-.78.78-.78 2.05 0 2.83L4 21.41c.39.39.9.59 1.41.59.51 0 1.02-.2 1.41-.59l7.78-7.78 2.81-2.81c.8-.78.8-2.07 0-2.86zM5.41 20L4 18.59l7.72-7.72 1.47 1.35L5.41 20z\"/>\n",
              "  </svg>\n",
              "      </button>\n",
              "      \n",
              "  <style>\n",
              "    .colab-df-container {\n",
              "      display:flex;\n",
              "      flex-wrap:wrap;\n",
              "      gap: 12px;\n",
              "    }\n",
              "\n",
              "    .colab-df-convert {\n",
              "      background-color: #E8F0FE;\n",
              "      border: none;\n",
              "      border-radius: 50%;\n",
              "      cursor: pointer;\n",
              "      display: none;\n",
              "      fill: #1967D2;\n",
              "      height: 32px;\n",
              "      padding: 0 0 0 0;\n",
              "      width: 32px;\n",
              "    }\n",
              "\n",
              "    .colab-df-convert:hover {\n",
              "      background-color: #E2EBFA;\n",
              "      box-shadow: 0px 1px 2px rgba(60, 64, 67, 0.3), 0px 1px 3px 1px rgba(60, 64, 67, 0.15);\n",
              "      fill: #174EA6;\n",
              "    }\n",
              "\n",
              "    [theme=dark] .colab-df-convert {\n",
              "      background-color: #3B4455;\n",
              "      fill: #D2E3FC;\n",
              "    }\n",
              "\n",
              "    [theme=dark] .colab-df-convert:hover {\n",
              "      background-color: #434B5C;\n",
              "      box-shadow: 0px 1px 3px 1px rgba(0, 0, 0, 0.15);\n",
              "      filter: drop-shadow(0px 1px 2px rgba(0, 0, 0, 0.3));\n",
              "      fill: #FFFFFF;\n",
              "    }\n",
              "  </style>\n",
              "\n",
              "      <script>\n",
              "        const buttonEl =\n",
              "          document.querySelector('#df-fbdec6d0-4ebe-4c0d-88ef-3a0c7da61012 button.colab-df-convert');\n",
              "        buttonEl.style.display =\n",
              "          google.colab.kernel.accessAllowed ? 'block' : 'none';\n",
              "\n",
              "        async function convertToInteractive(key) {\n",
              "          const element = document.querySelector('#df-fbdec6d0-4ebe-4c0d-88ef-3a0c7da61012');\n",
              "          const dataTable =\n",
              "            await google.colab.kernel.invokeFunction('convertToInteractive',\n",
              "                                                     [key], {});\n",
              "          if (!dataTable) return;\n",
              "\n",
              "          const docLinkHtml = 'Like what you see? Visit the ' +\n",
              "            '<a target=\"_blank\" href=https://colab.research.google.com/notebooks/data_table.ipynb>data table notebook</a>'\n",
              "            + ' to learn more about interactive tables.';\n",
              "          element.innerHTML = '';\n",
              "          dataTable['output_type'] = 'display_data';\n",
              "          await google.colab.output.renderOutput(dataTable, element);\n",
              "          const docLink = document.createElement('div');\n",
              "          docLink.innerHTML = docLinkHtml;\n",
              "          element.appendChild(docLink);\n",
              "        }\n",
              "      </script>\n",
              "    </div>\n",
              "  </div>\n",
              "  "
            ]
          },
          "metadata": {},
          "execution_count": 3
        }
      ]
    },
    {
      "cell_type": "markdown",
      "source": [
        "We observed the count, mean, std, min and max values in our data."
      ],
      "metadata": {
        "id": "mPxCcDVzXpQ_"
      }
    },
    {
      "cell_type": "markdown",
      "source": [
        "We are going to print the info of the data"
      ],
      "metadata": {
        "id": "aCKuQUEXWe__"
      }
    },
    {
      "cell_type": "code",
      "source": [
        "df.info()"
      ],
      "metadata": {
        "colab": {
          "base_uri": "https://localhost:8080/"
        },
        "id": "cYgJNlJAP-ob",
        "outputId": "02b0fd18-da13-4374-9b8a-b637f14a629b"
      },
      "execution_count": 4,
      "outputs": [
        {
          "output_type": "stream",
          "name": "stdout",
          "text": [
            "<class 'pandas.core.frame.DataFrame'>\n",
            "RangeIndex: 1000 entries, 0 to 999\n",
            "Data columns (total 35 columns):\n",
            " #   Column            Non-Null Count  Dtype  \n",
            "---  ------            --------------  -----  \n",
            " 0   Place_id          1000 non-null   int64  \n",
            " 1   Place_name        1000 non-null   object \n",
            " 2   Name              1000 non-null   object \n",
            " 3   start_date        1000 non-null   object \n",
            " 4   end_date          1000 non-null   object \n",
            " 5   start_time        914 non-null    object \n",
            " 6   end_time          1000 non-null   object \n",
            " 7   watering_time     1000 non-null   object \n",
            " 8   Plants            1000 non-null   int64  \n",
            " 9   status            1000 non-null   object \n",
            " 10  street_address    1000 non-null   object \n",
            " 11  Zip_code          1000 non-null   int64  \n",
            " 12  city              1000 non-null   object \n",
            " 13  seedid            1000 non-null   int64  \n",
            " 14  category          1000 non-null   object \n",
            " 15  seeds             1000 non-null   object \n",
            " 16  priceperseed      1000 non-null   float64\n",
            " 17  season            1000 non-null   object \n",
            " 18  holidays          1000 non-null   object \n",
            " 19  specialevent      1000 non-null   object \n",
            " 20  historicweather   1000 non-null   object \n",
            " 21  competitorprices  1000 non-null   float64\n",
            " 22  plantid           1000 non-null   int64  \n",
            " 23  farmerid          1000 non-null   int64  \n",
            " 24  pricepayed        1000 non-null   float64\n",
            " 25  timestamp         1000 non-null   object \n",
            " 26  plantstatus       1000 non-null   object \n",
            " 27  pickuptimestamp   1000 non-null   object \n",
            " 28  partnerid         1000 non-null   int64  \n",
            " 29  marketdata        1000 non-null   int64  \n",
            " 30  farmerid.1        1000 non-null   int64  \n",
            " 31  firstname         1000 non-null   object \n",
            " 32  lastname          1000 non-null   object \n",
            " 33  birthdate         1000 non-null   object \n",
            " 34  gender            1000 non-null   object \n",
            "dtypes: float64(3), int64(9), object(23)\n",
            "memory usage: 273.6+ KB\n"
          ]
        }
      ]
    },
    {
      "cell_type": "markdown",
      "source": [
        "Here we observed the type of our data."
      ],
      "metadata": {
        "id": "gLOBSTygX3iB"
      }
    },
    {
      "cell_type": "markdown",
      "source": [
        "Now we will check the null values in our data"
      ],
      "metadata": {
        "id": "NDIpP8bhXodh"
      }
    },
    {
      "cell_type": "code",
      "source": [
        "df.isnull().sum(axis=0).sort_values()"
      ],
      "metadata": {
        "colab": {
          "base_uri": "https://localhost:8080/"
        },
        "id": "A908_-ClTOs9",
        "outputId": "18487e50-6da8-46e1-a4c1-12fb8c64152f"
      },
      "execution_count": 5,
      "outputs": [
        {
          "output_type": "execute_result",
          "data": {
            "text/plain": [
              "Place_id             0\n",
              "specialevent         0\n",
              "historicweather      0\n",
              "competitorprices     0\n",
              "plantid              0\n",
              "farmerid             0\n",
              "pricepayed           0\n",
              "holidays             0\n",
              "timestamp            0\n",
              "pickuptimestamp      0\n",
              "partnerid            0\n",
              "marketdata           0\n",
              "farmerid.1           0\n",
              "firstname            0\n",
              "lastname             0\n",
              "plantstatus          0\n",
              "birthdate            0\n",
              "season               0\n",
              "seeds                0\n",
              "Place_name           0\n",
              "Name                 0\n",
              "start_date           0\n",
              "end_date             0\n",
              "end_time             0\n",
              "priceperseed         0\n",
              "watering_time        0\n",
              "status               0\n",
              "street_address       0\n",
              "Zip_code             0\n",
              "city                 0\n",
              "seedid               0\n",
              "category             0\n",
              "Plants               0\n",
              "gender               0\n",
              "start_time          86\n",
              "dtype: int64"
            ]
          },
          "metadata": {},
          "execution_count": 5
        }
      ]
    },
    {
      "cell_type": "markdown",
      "source": [
        "We observed that there are 86 null values in our start_time column."
      ],
      "metadata": {
        "id": "ojIcri4MYMKX"
      }
    },
    {
      "cell_type": "markdown",
      "source": [
        "Here we are taking the most occuring value in our start_time column and replace the NAN values with it."
      ],
      "metadata": {
        "id": "-gj5Pw8Qjvew"
      }
    },
    {
      "cell_type": "code",
      "source": [
        "most_occ = df['start_time'].value_counts().idxmax()\n",
        "print(most_occ)"
      ],
      "metadata": {
        "colab": {
          "base_uri": "https://localhost:8080/"
        },
        "id": "bIgCf0LGqoYy",
        "outputId": "ec4dfbf5-eb42-4941-ebb6-6c7a84cbf23b"
      },
      "execution_count": 6,
      "outputs": [
        {
          "output_type": "stream",
          "name": "stdout",
          "text": [
            "03:21:05\n"
          ]
        }
      ]
    },
    {
      "cell_type": "markdown",
      "source": [
        "it shows us that now our most occuring value is \"03:21:05\""
      ],
      "metadata": {
        "id": "sANonqdIYdAH"
      }
    },
    {
      "cell_type": "markdown",
      "source": [
        "Here we are checking the frequency of our most occurance value."
      ],
      "metadata": {
        "id": "4i7fFZNJ20Eh"
      }
    },
    {
      "cell_type": "code",
      "source": [
        "(df.start_time.values == most_occ).sum()"
      ],
      "metadata": {
        "colab": {
          "base_uri": "https://localhost:8080/"
        },
        "id": "fydFNw7sodgh",
        "outputId": "899200d6-8349-4b41-df2d-a544189fbc94"
      },
      "execution_count": 7,
      "outputs": [
        {
          "output_type": "execute_result",
          "data": {
            "text/plain": [
              "2"
            ]
          },
          "metadata": {},
          "execution_count": 7
        }
      ]
    },
    {
      "cell_type": "markdown",
      "source": [
        "And this most occuring value comes only two time in our data."
      ],
      "metadata": {
        "id": "xWDvK0ZTYmDk"
      }
    },
    {
      "cell_type": "markdown",
      "source": [
        "Now we will check that what are the methods of removing null values in Pandas!"
      ],
      "metadata": {
        "id": "VkD_M35jcEC_"
      }
    },
    {
      "cell_type": "markdown",
      "source": [
        "So, There are two methods to change the null values into some other values:\n",
        "\n",
        "1- fillna\n",
        "\n",
        "2- replace\n",
        "\n",
        "So, Here we are filling the NAN values with the most_occ value."
      ],
      "metadata": {
        "id": "1ul2XYVrcQN_"
      }
    },
    {
      "cell_type": "code",
      "source": [
        "with_fill = df.start_time.fillna(value= most_occ, inplace = True)\n",
        "print(with_fill)\n"
      ],
      "metadata": {
        "id": "qux2-E_7TR3t",
        "colab": {
          "base_uri": "https://localhost:8080/"
        },
        "outputId": "c79da6e2-5608-4954-d8ed-d26383e0ecd5"
      },
      "execution_count": 8,
      "outputs": [
        {
          "output_type": "stream",
          "name": "stdout",
          "text": [
            "None\n"
          ]
        }
      ]
    },
    {
      "cell_type": "markdown",
      "source": [
        "here we observed that when we replace our null value with the most occuring value of the data then there is no null value present now."
      ],
      "metadata": {
        "id": "tSz3c7UNZCQ1"
      }
    },
    {
      "cell_type": "markdown",
      "source": [
        "Hence to verify that there is no NaN values in our data."
      ],
      "metadata": {
        "id": "rtuwGjkyp2t0"
      }
    },
    {
      "cell_type": "code",
      "source": [
        "df.isnull().sum(axis=0).sort_values()"
      ],
      "metadata": {
        "colab": {
          "base_uri": "https://localhost:8080/"
        },
        "id": "AtADK8rnZLaQ",
        "outputId": "a771ba79-58db-4d2a-83e6-8a9a35b1dfc0"
      },
      "execution_count": 9,
      "outputs": [
        {
          "output_type": "execute_result",
          "data": {
            "text/plain": [
              "Place_id            0\n",
              "specialevent        0\n",
              "historicweather     0\n",
              "competitorprices    0\n",
              "plantid             0\n",
              "farmerid            0\n",
              "pricepayed          0\n",
              "holidays            0\n",
              "timestamp           0\n",
              "pickuptimestamp     0\n",
              "partnerid           0\n",
              "marketdata          0\n",
              "farmerid.1          0\n",
              "firstname           0\n",
              "lastname            0\n",
              "plantstatus         0\n",
              "birthdate           0\n",
              "season              0\n",
              "seeds               0\n",
              "Place_name          0\n",
              "Name                0\n",
              "start_date          0\n",
              "end_date            0\n",
              "start_time          0\n",
              "end_time            0\n",
              "priceperseed        0\n",
              "watering_time       0\n",
              "status              0\n",
              "street_address      0\n",
              "Zip_code            0\n",
              "city                0\n",
              "seedid              0\n",
              "category            0\n",
              "Plants              0\n",
              "gender              0\n",
              "dtype: int64"
            ]
          },
          "metadata": {},
          "execution_count": 9
        }
      ]
    },
    {
      "cell_type": "markdown",
      "source": [
        "Now we are going to make the pie chart of our seeds data column and we want to check their distribution."
      ],
      "metadata": {
        "id": "EsGhDYCFZXGN"
      }
    },
    {
      "cell_type": "code",
      "source": [
        "import pandas as pd\n",
        "from matplotlib.pyplot import pie, axis, show\n",
        "import matplotlib.pyplot as plt\n",
        "import numpy as np\n",
        "df_seed = df['seeds']\n",
        "\n",
        "df_seed.tail()\n",
        "freq = df_seed.value_counts()\n",
        "\n",
        "plt.rcParams[\"figure.figsize\"] = [7.50, 3.50]\n",
        "plt.rcParams[\"figure.autolayout\"] = True\n",
        "#.plt(kind='pie', subplots='true', figsize=(8,8))\n",
        "fig, ax = plt.subplots()\n",
        "\n",
        "df_seed.value_counts().plot(ax=ax, kind='pie', autopct='%1.1f%%', shadow=True, startangle=90)\n",
        "\n",
        "plt.show()"
      ],
      "metadata": {
        "colab": {
          "base_uri": "https://localhost:8080/",
          "height": 261
        },
        "id": "CwtDEjd_6htH",
        "outputId": "38a6bd85-ddf4-436e-a0bc-59dfc69fb060"
      },
      "execution_count": 10,
      "outputs": [
        {
          "output_type": "display_data",
          "data": {
            "text/plain": [
              "<Figure size 540x252 with 1 Axes>"
            ],
            "image/png": "[encoded data removed]"
          },
          "metadata": {}
        }
      ]
    },
    {
      "cell_type": "markdown",
      "source": [
        "Now we are going to make the pie chart of our cateory data column and we want to check their distribution."
      ],
      "metadata": {
        "id": "PzOrIbWDZjkK"
      }
    },
    {
      "cell_type": "code",
      "source": [
        "df_category = df['category']\n",
        "\n",
        "df_category.tail()\n",
        "freq = df_category.value_counts()\n",
        "\n",
        "plt.rcParams[\"figure.figsize\"] = [7.50, 3.50]\n",
        "plt.rcParams[\"figure.autolayout\"] = True\n",
        "#.plt(kind='pie', subplots='true', figsize=(8,8))\n",
        "fig, ax = plt.subplots()\n",
        "\n",
        "df_category.value_counts().plot(ax=ax, kind='pie', autopct='%1.1f%%', shadow=True, startangle=90)\n",
        "\n",
        "plt.show()"
      ],
      "metadata": {
        "colab": {
          "base_uri": "https://localhost:8080/",
          "height": 261
        },
        "id": "dvTw91gXXVa9",
        "outputId": "773793ad-e2d8-438e-fb5c-e624d59fe161"
      },
      "execution_count": 11,
      "outputs": [
        {
          "output_type": "display_data",
          "data": {
            "text/plain": [
              "<Figure size 540x252 with 1 Axes>"
            ],
            "image/png": "[encoded data removed]"
          },
          "metadata": {}
        }
      ]
    },
    {
      "cell_type": "markdown",
      "source": [
        "Now we are going to make the pie chart of our historicweather data column and we want to check their distribution."
      ],
      "metadata": {
        "id": "8sGdtR7XZpUe"
      }
    },
    {
      "cell_type": "code",
      "source": [
        "df_historicweather = df['historicweather']\n",
        "\n",
        "df_historicweather.tail()\n",
        "freq = df_historicweather.value_counts()\n",
        "\n",
        "plt.rcParams[\"figure.figsize\"] = [7.50, 3.50]\n",
        "plt.rcParams[\"figure.autolayout\"] = True\n",
        "#.plt(kind='pie', subplots='true', figsize=(8,8))\n",
        "fig, ax = plt.subplots()\n",
        "\n",
        "df_historicweather.value_counts().plot(ax=ax, kind='pie', autopct='%1.1f%%', shadow=True, startangle=90)\n",
        "\n",
        "plt.show()"
      ],
      "metadata": {
        "colab": {
          "base_uri": "https://localhost:8080/",
          "height": 261
        },
        "id": "Ui515vUfLTjz",
        "outputId": "bf551ade-e226-44a7-f2ee-dd03efcb23ff"
      },
      "execution_count": 12,
      "outputs": [
        {
          "output_type": "display_data",
          "data": {
            "text/plain": [
              "<Figure size 540x252 with 1 Axes>"
            ],
            "image/png": "[encoded data removed]"
          },
          "metadata": {}
        }
      ]
    },
    {
      "cell_type": "markdown",
      "source": [
        "Now we are going to make the pie chart of our season data column and we want to check their distribution."
      ],
      "metadata": {
        "id": "TduiIZBwZuHg"
      }
    },
    {
      "cell_type": "code",
      "source": [
        "df_season = df['season']\n",
        "\n",
        "df_season.tail()\n",
        "freq = df_season.value_counts()\n",
        "\n",
        "plt.rcParams[\"figure.figsize\"] = [7.50, 3.50]\n",
        "plt.rcParams[\"figure.autolayout\"] = True\n",
        "#.plt(kind='pie', subplots='true', figsize=(8,8))\n",
        "fig, ax = plt.subplots()\n",
        "\n",
        "df_season.value_counts().plot(ax=ax, kind='pie', autopct='%1.1f%%', shadow=True, startangle=90)\n",
        "\n",
        "plt.show()"
      ],
      "metadata": {
        "colab": {
          "base_uri": "https://localhost:8080/",
          "height": 261
        },
        "id": "Kfgqhng0YMzF",
        "outputId": "4acd4d97-f008-4f5d-b3fd-eeb0e5e02616"
      },
      "execution_count": 13,
      "outputs": [
        {
          "output_type": "display_data",
          "data": {
            "text/plain": [
              "<Figure size 540x252 with 1 Axes>"
            ],
            "image/png": "[encoded data removed]"
          },
          "metadata": {}
        }
      ]
    },
    {
      "cell_type": "markdown",
      "source": [
        "Now we want to check the frequency of the seeds in every season column."
      ],
      "metadata": {
        "id": "oyI9BEbtZzQn"
      }
    },
    {
      "cell_type": "code",
      "source": [
        "new = df.groupby(['seeds','season']).size()\n"
      ],
      "metadata": {
        "id": "oz9JipO2dxNc"
      },
      "execution_count": 14,
      "outputs": []
    },
    {
      "cell_type": "code",
      "source": [
        "pd.DataFrame(new)"
      ],
      "metadata": {
        "colab": {
          "base_uri": "https://localhost:8080/",
          "height": 1000
        },
        "id": "yrgAHKSfd2jY",
        "outputId": "8ea8833c-582d-41db-df05-cd071c5387ca"
      },
      "execution_count": 15,
      "outputs": [
        {
          "output_type": "execute_result",
          "data": {
            "text/plain": [
              "                           0\n",
              "seeds             season    \n",
              "Basil Seeds       Autumn  22\n",
              "                  Spring  27\n",
              "                  Summer  30\n",
              "                  Winter  36\n",
              "Chia Seeds        Autumn  46\n",
              "                  Spring  25\n",
              "                  Summer  29\n",
              "                  Winter  26\n",
              "FlaxSeeds         Autumn  24\n",
              "                  Spring  37\n",
              "                  Summer  39\n",
              "                  Winter  34\n",
              "Hemp Seeds        Autumn  38\n",
              "                  Spring  32\n",
              "                  Summer  30\n",
              "                  Winter  30\n",
              "Pomegranate Seeds Autumn  18\n",
              "                  Spring  31\n",
              "                  Summer  31\n",
              "                  Winter  30\n",
              "Pumpkin Seeds     Autumn  44\n",
              "                  Spring  33\n",
              "                  Summer  29\n",
              "                  Winter  26\n",
              "Rajgira Seeds     Autumn  30\n",
              "                  Spring  28\n",
              "                  Summer  31\n",
              "                  Winter  30\n",
              "Sunflower Seeds   Autumn  30\n",
              "                  Spring  33\n",
              "                  Summer  37\n",
              "                  Winter  34"
            ],
            "text/html": [
              "\n",
              "  <div id=\"df-2f96b94f-d8e1-4fc8-8460-dbafa891be90\">\n",
              "    <div class=\"colab-df-container\">\n",
              "      <div>\n",
              "<style scoped>\n",
              "    .dataframe tbody tr th:only-of-type {\n",
              "        vertical-align: middle;\n",
              "    }\n",
              "\n",
              "    .dataframe tbody tr th {\n",
              "        vertical-align: top;\n",
              "    }\n",
              "\n",
              "    .dataframe thead th {\n",
              "        text-align: right;\n",
              "    }\n",
              "</style>\n",
              "<table border=\"1\" class=\"dataframe\">\n",
              "  <thead>\n",
              "    <tr style=\"text-align: right;\">\n",
              "      <th></th>\n",
              "      <th></th>\n",
              "      <th>0</th>\n",
              "    </tr>\n",
              "    <tr>\n",
              "      <th>seeds</th>\n",
              "      <th>season</th>\n",
              "      <th></th>\n",
              "    </tr>\n",
              "  </thead>\n",
              "  <tbody>\n",
              "    <tr>\n",
              "      <th rowspan=\"4\" valign=\"top\">Basil Seeds</th>\n",
              "      <th>Autumn</th>\n",
              "      <td>22</td>\n",
              "    </tr>\n",
              "    <tr>\n",
              "      <th>Spring</th>\n",
              "      <td>27</td>\n",
              "    </tr>\n",
              "    <tr>\n",
              "      <th>Summer</th>\n",
              "      <td>30</td>\n",
              "    </tr>\n",
              "    <tr>\n",
              "      <th>Winter</th>\n",
              "      <td>36</td>\n",
              "    </tr>\n",
              "    <tr>\n",
              "      <th rowspan=\"4\" valign=\"top\">Chia Seeds</th>\n",
              "      <th>Autumn</th>\n",
              "      <td>46</td>\n",
              "    </tr>\n",
              "    <tr>\n",
              "      <th>Spring</th>\n",
              "      <td>25</td>\n",
              "    </tr>\n",
              "    <tr>\n",
              "      <th>Summer</th>\n",
              "      <td>29</td>\n",
              "    </tr>\n",
              "    <tr>\n",
              "      <th>Winter</th>\n",
              "      <td>26</td>\n",
              "    </tr>\n",
              "    <tr>\n",
              "      <th rowspan=\"4\" valign=\"top\">FlaxSeeds</th>\n",
              "      <th>Autumn</th>\n",
              "      <td>24</td>\n",
              "    </tr>\n",
              "    <tr>\n",
              "      <th>Spring</th>\n",
              "      <td>37</td>\n",
              "    </tr>\n",
              "    <tr>\n",
              "      <th>Summer</th>\n",
              "      <td>39</td>\n",
              "    </tr>\n",
              "    <tr>\n",
              "      <th>Winter</th>\n",
              "      <td>34</td>\n",
              "    </tr>\n",
              "    <tr>\n",
              "      <th rowspan=\"4\" valign=\"top\">Hemp Seeds</th>\n",
              "      <th>Autumn</th>\n",
              "      <td>38</td>\n",
              "    </tr>\n",
              "    <tr>\n",
              "      <th>Spring</th>\n",
              "      <td>32</td>\n",
              "    </tr>\n",
              "    <tr>\n",
              "      <th>Summer</th>\n",
              "      <td>30</td>\n",
              "    </tr>\n",
              "    <tr>\n",
              "      <th>Winter</th>\n",
              "      <td>30</td>\n",
              "    </tr>\n",
              "    <tr>\n",
              "      <th rowspan=\"4\" valign=\"top\">Pomegranate Seeds</th>\n",
              "      <th>Autumn</th>\n",
              "      <td>18</td>\n",
              "    </tr>\n",
              "    <tr>\n",
              "      <th>Spring</th>\n",
              "      <td>31</td>\n",
              "    </tr>\n",
              "    <tr>\n",
              "      <th>Summer</th>\n",
              "      <td>31</td>\n",
              "    </tr>\n",
              "    <tr>\n",
              "      <th>Winter</th>\n",
              "      <td>30</td>\n",
              "    </tr>\n",
              "    <tr>\n",
              "      <th rowspan=\"4\" valign=\"top\">Pumpkin Seeds</th>\n",
              "      <th>Autumn</th>\n",
              "      <td>44</td>\n",
              "    </tr>\n",
              "    <tr>\n",
              "      <th>Spring</th>\n",
              "      <td>33</td>\n",
              "    </tr>\n",
              "    <tr>\n",
              "      <th>Summer</th>\n",
              "      <td>29</td>\n",
              "    </tr>\n",
              "    <tr>\n",
              "      <th>Winter</th>\n",
              "      <td>26</td>\n",
              "    </tr>\n",
              "    <tr>\n",
              "      <th rowspan=\"4\" valign=\"top\">Rajgira Seeds</th>\n",
              "      <th>Autumn</th>\n",
              "      <td>30</td>\n",
              "    </tr>\n",
              "    <tr>\n",
              "      <th>Spring</th>\n",
              "      <td>28</td>\n",
              "    </tr>\n",
              "    <tr>\n",
              "      <th>Summer</th>\n",
              "      <td>31</td>\n",
              "    </tr>\n",
              "    <tr>\n",
              "      <th>Winter</th>\n",
              "      <td>30</td>\n",
              "    </tr>\n",
              "    <tr>\n",
              "      <th rowspan=\"4\" valign=\"top\">Sunflower Seeds</th>\n",
              "      <th>Autumn</th>\n",
              "      <td>30</td>\n",
              "    </tr>\n",
              "    <tr>\n",
              "      <th>Spring</th>\n",
              "      <td>33</td>\n",
              "    </tr>\n",
              "    <tr>\n",
              "      <th>Summer</th>\n",
              "      <td>37</td>\n",
              "    </tr>\n",
              "    <tr>\n",
              "      <th>Winter</th>\n",
              "      <td>34</td>\n",
              "    </tr>\n",
              "  </tbody>\n",
              "</table>\n",
              "</div>\n",
              "      <button class=\"colab-df-convert\" onclick=\"convertToInteractive('df-2f96b94f-d8e1-4fc8-8460-dbafa891be90')\"\n",
              "              title=\"Convert this dataframe to an interactive table.\"\n",
              "              style=\"display:none;\">\n",
              "        \n",
              "  <svg xmlns=\"http://www.w3.org/2000/svg\" height=\"24px\"viewBox=\"0 0 24 24\"\n",
              "       width=\"24px\">\n",
              "    <path d=\"M0 0h24v24H0V0z\" fill=\"none\"/>\n",
              "    <path d=\"M18.56 5.44l.94 2.06.94-2.06 2.06-.94-2.06-.94-.94-2.06-.94 2.06-2.06.94zm-11 1L8.5 8.5l.94-2.06 2.06-.94-2.06-.94L8.5 2.5l-.94 2.06-2.06.94zm10 10l.94 2.06.94-2.06 2.06-.94-2.06-.94-.94-2.06-.94 2.06-2.06.94z\"/><path d=\"M17.41 7.96l-1.37-1.37c-.4-.4-.92-.59-1.43-.59-.52 0-1.04.2-1.43.59L10.3 9.45l-7.72 7.72c-.78.78-.78 2.05 0 2.83L4 21.41c.39.39.9.59 1.41.59.51 0 1.02-.2 1.41-.59l7.78-7.78 2.81-2.81c.8-.78.8-2.07 0-2.86zM5.41 20L4 18.59l7.72-7.72 1.47 1.35L5.41 20z\"/>\n",
              "  </svg>\n",
              "      </button>\n",
              "      \n",
              "  <style>\n",
              "    .colab-df-container {\n",
              "      display:flex;\n",
              "      flex-wrap:wrap;\n",
              "      gap: 12px;\n",
              "    }\n",
              "\n",
              "    .colab-df-convert {\n",
              "      background-color: #E8F0FE;\n",
              "      border: none;\n",
              "      border-radius: 50%;\n",
              "      cursor: pointer;\n",
              "      display: none;\n",
              "      fill: #1967D2;\n",
              "      height: 32px;\n",
              "      padding: 0 0 0 0;\n",
              "      width: 32px;\n",
              "    }\n",
              "\n",
              "    .colab-df-convert:hover {\n",
              "      background-color: #E2EBFA;\n",
              "      box-shadow: 0px 1px 2px rgba(60, 64, 67, 0.3), 0px 1px 3px 1px rgba(60, 64, 67, 0.15);\n",
              "      fill: #174EA6;\n",
              "    }\n",
              "\n",
              "    [theme=dark] .colab-df-convert {\n",
              "      background-color: #3B4455;\n",
              "      fill: #D2E3FC;\n",
              "    }\n",
              "\n",
              "    [theme=dark] .colab-df-convert:hover {\n",
              "      background-color: #434B5C;\n",
              "      box-shadow: 0px 1px 3px 1px rgba(0, 0, 0, 0.15);\n",
              "      filter: drop-shadow(0px 1px 2px rgba(0, 0, 0, 0.3));\n",
              "      fill: #FFFFFF;\n",
              "    }\n",
              "  </style>\n",
              "\n",
              "      <script>\n",
              "        const buttonEl =\n",
              "          document.querySelector('#df-2f96b94f-d8e1-4fc8-8460-dbafa891be90 button.colab-df-convert');\n",
              "        buttonEl.style.display =\n",
              "          google.colab.kernel.accessAllowed ? 'block' : 'none';\n",
              "\n",
              "        async function convertToInteractive(key) {\n",
              "          const element = document.querySelector('#df-2f96b94f-d8e1-4fc8-8460-dbafa891be90');\n",
              "          const dataTable =\n",
              "            await google.colab.kernel.invokeFunction('convertToInteractive',\n",
              "                                                     [key], {});\n",
              "          if (!dataTable) return;\n",
              "\n",
              "          const docLinkHtml = 'Like what you see? Visit the ' +\n",
              "            '<a target=\"_blank\" href=https://colab.research.google.com/notebooks/data_table.ipynb>data table notebook</a>'\n",
              "            + ' to learn more about interactive tables.';\n",
              "          element.innerHTML = '';\n",
              "          dataTable['output_type'] = 'display_data';\n",
              "          await google.colab.output.renderOutput(dataTable, element);\n",
              "          const docLink = document.createElement('div');\n",
              "          docLink.innerHTML = docLinkHtml;\n",
              "          element.appendChild(docLink);\n",
              "        }\n",
              "      </script>\n",
              "    </div>\n",
              "  </div>\n",
              "  "
            ]
          },
          "metadata": {},
          "execution_count": 15
        }
      ]
    },
    {
      "cell_type": "markdown",
      "source": [
        "And we observed that the frequency of every seeds in every season."
      ],
      "metadata": {
        "id": "YAymnKGAZ-q_"
      }
    },
    {
      "cell_type": "markdown",
      "source": [
        "Now we want to find which Seed mostly use in which weather?"
      ],
      "metadata": {
        "id": "Q6Q0V93mioGS"
      }
    },
    {
      "cell_type": "code",
      "source": [
        "(df['seeds'] + ' in ' + df['season']).mode()[0]"
      ],
      "metadata": {
        "id": "E_xBNFlsefCA",
        "colab": {
          "base_uri": "https://localhost:8080/",
          "height": 35
        },
        "outputId": "cb3643a3-08bf-4e20-ff48-b72fa2b0e184"
      },
      "execution_count": 16,
      "outputs": [
        {
          "output_type": "execute_result",
          "data": {
            "text/plain": [
              "'Chia Seeds in Autumn'"
            ],
            "application/vnd.google.colaboratory.intrinsic+json": {
              "type": "string"
            }
          },
          "metadata": {},
          "execution_count": 16
        }
      ]
    },
    {
      "cell_type": "markdown",
      "source": [
        "We Observed that Chia seeds mostly used in Autumn season"
      ],
      "metadata": {
        "id": "knZ7NImcaKpS"
      }
    },
    {
      "cell_type": "markdown",
      "source": [
        "Now we want to find which Seed mostly use in which Category?"
      ],
      "metadata": {
        "id": "yYKWFTuHjDdK"
      }
    },
    {
      "cell_type": "code",
      "source": [
        "(df['seeds'] + ' in ' + df['category']).mode()[0]"
      ],
      "metadata": {
        "colab": {
          "base_uri": "https://localhost:8080/",
          "height": 35
        },
        "id": "qeTj0Td0cH2A",
        "outputId": "a40f65c5-e901-4ce4-8359-8e1e72e8b45f"
      },
      "execution_count": 17,
      "outputs": [
        {
          "output_type": "execute_result",
          "data": {
            "text/plain": [
              "'Pumpkin Seeds in breeder seed'"
            ],
            "application/vnd.google.colaboratory.intrinsic+json": {
              "type": "string"
            }
          },
          "metadata": {},
          "execution_count": 17
        }
      ]
    },
    {
      "cell_type": "markdown",
      "source": [
        "We observed that pumpkin seed mostly comes in breeder seed category."
      ],
      "metadata": {
        "id": "vbP2E02IaR_Z"
      }
    },
    {
      "cell_type": "markdown",
      "source": [
        "Here we will find the min and max price value of the seeds against priceperseed column."
      ],
      "metadata": {
        "id": "mgFLZWGEk8Re"
      }
    },
    {
      "cell_type": "code",
      "source": [
        "id_vars = ['seeds']\n",
        "\n",
        "df1 = (df.melt(id_vars=id_vars, value_vars=['priceperseed'])\n",
        "         .groupby(id_vars)['value']\n",
        "         .agg(['min', 'max']))\n",
        "\n",
        "#df = df.merge(df1, how='left', on=id_vars)\n",
        "df1"
      ],
      "metadata": {
        "colab": {
          "base_uri": "https://localhost:8080/",
          "height": 332
        },
        "id": "9eyjmV2iehkp",
        "outputId": "ee99d1fd-9128-4ba7-ff47-589442e878a8"
      },
      "execution_count": 18,
      "outputs": [
        {
          "output_type": "execute_result",
          "data": {
            "text/plain": [
              "                    min    max\n",
              "seeds                         \n",
              "Basil Seeds        0.32  99.26\n",
              "Chia Seeds         0.31  97.57\n",
              "FlaxSeeds          1.23  99.71\n",
              "Hemp Seeds         0.55  99.67\n",
              "Pomegranate Seeds  0.45  98.53\n",
              "Pumpkin Seeds      0.50  99.96\n",
              "Rajgira Seeds      0.67  99.27\n",
              "Sunflower Seeds    0.71  99.83"
            ],
            "text/html": [
              "\n",
              "  <div id=\"df-f78edbb9-9f46-4c0f-8447-dde279e3de95\">\n",
              "    <div class=\"colab-df-container\">\n",
              "      <div>\n",
              "<style scoped>\n",
              "    .dataframe tbody tr th:only-of-type {\n",
              "        vertical-align: middle;\n",
              "    }\n",
              "\n",
              "    .dataframe tbody tr th {\n",
              "        vertical-align: top;\n",
              "    }\n",
              "\n",
              "    .dataframe thead th {\n",
              "        text-align: right;\n",
              "    }\n",
              "</style>\n",
              "<table border=\"1\" class=\"dataframe\">\n",
              "  <thead>\n",
              "    <tr style=\"text-align: right;\">\n",
              "      <th></th>\n",
              "      <th>min</th>\n",
              "      <th>max</th>\n",
              "    </tr>\n",
              "    <tr>\n",
              "      <th>seeds</th>\n",
              "      <th></th>\n",
              "      <th></th>\n",
              "    </tr>\n",
              "  </thead>\n",
              "  <tbody>\n",
              "    <tr>\n",
              "      <th>Basil Seeds</th>\n",
              "      <td>0.32</td>\n",
              "      <td>99.26</td>\n",
              "    </tr>\n",
              "    <tr>\n",
              "      <th>Chia Seeds</th>\n",
              "      <td>0.31</td>\n",
              "      <td>97.57</td>\n",
              "    </tr>\n",
              "    <tr>\n",
              "      <th>FlaxSeeds</th>\n",
              "      <td>1.23</td>\n",
              "      <td>99.71</td>\n",
              "    </tr>\n",
              "    <tr>\n",
              "      <th>Hemp Seeds</th>\n",
              "      <td>0.55</td>\n",
              "      <td>99.67</td>\n",
              "    </tr>\n",
              "    <tr>\n",
              "      <th>Pomegranate Seeds</th>\n",
              "      <td>0.45</td>\n",
              "      <td>98.53</td>\n",
              "    </tr>\n",
              "    <tr>\n",
              "      <th>Pumpkin Seeds</th>\n",
              "      <td>0.50</td>\n",
              "      <td>99.96</td>\n",
              "    </tr>\n",
              "    <tr>\n",
              "      <th>Rajgira Seeds</th>\n",
              "      <td>0.67</td>\n",
              "      <td>99.27</td>\n",
              "    </tr>\n",
              "    <tr>\n",
              "      <th>Sunflower Seeds</th>\n",
              "      <td>0.71</td>\n",
              "      <td>99.83</td>\n",
              "    </tr>\n",
              "  </tbody>\n",
              "</table>\n",
              "</div>\n",
              "      <button class=\"colab-df-convert\" onclick=\"convertToInteractive('df-f78edbb9-9f46-4c0f-8447-dde279e3de95')\"\n",
              "              title=\"Convert this dataframe to an interactive table.\"\n",
              "              style=\"display:none;\">\n",
              "        \n",
              "  <svg xmlns=\"http://www.w3.org/2000/svg\" height=\"24px\"viewBox=\"0 0 24 24\"\n",
              "       width=\"24px\">\n",
              "    <path d=\"M0 0h24v24H0V0z\" fill=\"none\"/>\n",
              "    <path d=\"M18.56 5.44l.94 2.06.94-2.06 2.06-.94-2.06-.94-.94-2.06-.94 2.06-2.06.94zm-11 1L8.5 8.5l.94-2.06 2.06-.94-2.06-.94L8.5 2.5l-.94 2.06-2.06.94zm10 10l.94 2.06.94-2.06 2.06-.94-2.06-.94-.94-2.06-.94 2.06-2.06.94z\"/><path d=\"M17.41 7.96l-1.37-1.37c-.4-.4-.92-.59-1.43-.59-.52 0-1.04.2-1.43.59L10.3 9.45l-7.72 7.72c-.78.78-.78 2.05 0 2.83L4 21.41c.39.39.9.59 1.41.59.51 0 1.02-.2 1.41-.59l7.78-7.78 2.81-2.81c.8-.78.8-2.07 0-2.86zM5.41 20L4 18.59l7.72-7.72 1.47 1.35L5.41 20z\"/>\n",
              "  </svg>\n",
              "      </button>\n",
              "      \n",
              "  <style>\n",
              "    .colab-df-container {\n",
              "      display:flex;\n",
              "      flex-wrap:wrap;\n",
              "      gap: 12px;\n",
              "    }\n",
              "\n",
              "    .colab-df-convert {\n",
              "      background-color: #E8F0FE;\n",
              "      border: none;\n",
              "      border-radius: 50%;\n",
              "      cursor: pointer;\n",
              "      display: none;\n",
              "      fill: #1967D2;\n",
              "      height: 32px;\n",
              "      padding: 0 0 0 0;\n",
              "      width: 32px;\n",
              "    }\n",
              "\n",
              "    .colab-df-convert:hover {\n",
              "      background-color: #E2EBFA;\n",
              "      box-shadow: 0px 1px 2px rgba(60, 64, 67, 0.3), 0px 1px 3px 1px rgba(60, 64, 67, 0.15);\n",
              "      fill: #174EA6;\n",
              "    }\n",
              "\n",
              "    [theme=dark] .colab-df-convert {\n",
              "      background-color: #3B4455;\n",
              "      fill: #D2E3FC;\n",
              "    }\n",
              "\n",
              "    [theme=dark] .colab-df-convert:hover {\n",
              "      background-color: #434B5C;\n",
              "      box-shadow: 0px 1px 3px 1px rgba(0, 0, 0, 0.15);\n",
              "      filter: drop-shadow(0px 1px 2px rgba(0, 0, 0, 0.3));\n",
              "      fill: #FFFFFF;\n",
              "    }\n",
              "  </style>\n",
              "\n",
              "      <script>\n",
              "        const buttonEl =\n",
              "          document.querySelector('#df-f78edbb9-9f46-4c0f-8447-dde279e3de95 button.colab-df-convert');\n",
              "        buttonEl.style.display =\n",
              "          google.colab.kernel.accessAllowed ? 'block' : 'none';\n",
              "\n",
              "        async function convertToInteractive(key) {\n",
              "          const element = document.querySelector('#df-f78edbb9-9f46-4c0f-8447-dde279e3de95');\n",
              "          const dataTable =\n",
              "            await google.colab.kernel.invokeFunction('convertToInteractive',\n",
              "                                                     [key], {});\n",
              "          if (!dataTable) return;\n",
              "\n",
              "          const docLinkHtml = 'Like what you see? Visit the ' +\n",
              "            '<a target=\"_blank\" href=https://colab.research.google.com/notebooks/data_table.ipynb>data table notebook</a>'\n",
              "            + ' to learn more about interactive tables.';\n",
              "          element.innerHTML = '';\n",
              "          dataTable['output_type'] = 'display_data';\n",
              "          await google.colab.output.renderOutput(dataTable, element);\n",
              "          const docLink = document.createElement('div');\n",
              "          docLink.innerHTML = docLinkHtml;\n",
              "          element.appendChild(docLink);\n",
              "        }\n",
              "      </script>\n",
              "    </div>\n",
              "  </div>\n",
              "  "
            ]
          },
          "metadata": {},
          "execution_count": 18
        }
      ]
    },
    {
      "cell_type": "markdown",
      "source": [
        "Here we will find the min and max price value of the seeds against cateogiry column."
      ],
      "metadata": {
        "id": "h6K6O9aWWm1a"
      }
    },
    {
      "cell_type": "code",
      "source": [
        "id_vars = ['category']\n",
        "\n",
        "df2 = (df.melt(id_vars=id_vars, value_vars=['priceperseed'])\n",
        "         .groupby(id_vars)['value']\n",
        "         .agg(['min', 'max']))\n",
        "\n",
        "#df = df.merge(df1, how='left', on=id_vars)\n",
        "df2"
      ],
      "metadata": {
        "colab": {
          "base_uri": "https://localhost:8080/",
          "height": 206
        },
        "id": "wGH6owL-g6tl",
        "outputId": "0004811b-43da-479f-85be-f94538eb5ab9"
      },
      "execution_count": 19,
      "outputs": [
        {
          "output_type": "execute_result",
          "data": {
            "text/plain": [
              "                  min    max\n",
              "category                    \n",
              "breeder seed     0.31  99.96\n",
              "certified seed   0.45  99.27\n",
              "foundation seed  0.32  99.67\n",
              "nucleus seed     0.55  98.71"
            ],
            "text/html": [
              "\n",
              "  <div id=\"df-308390df-ae6e-4f15-b4bb-6872c52f4247\">\n",
              "    <div class=\"colab-df-container\">\n",
              "      <div>\n",
              "<style scoped>\n",
              "    .dataframe tbody tr th:only-of-type {\n",
              "        vertical-align: middle;\n",
              "    }\n",
              "\n",
              "    .dataframe tbody tr th {\n",
              "        vertical-align: top;\n",
              "    }\n",
              "\n",
              "    .dataframe thead th {\n",
              "        text-align: right;\n",
              "    }\n",
              "</style>\n",
              "<table border=\"1\" class=\"dataframe\">\n",
              "  <thead>\n",
              "    <tr style=\"text-align: right;\">\n",
              "      <th></th>\n",
              "      <th>min</th>\n",
              "      <th>max</th>\n",
              "    </tr>\n",
              "    <tr>\n",
              "      <th>category</th>\n",
              "      <th></th>\n",
              "      <th></th>\n",
              "    </tr>\n",
              "  </thead>\n",
              "  <tbody>\n",
              "    <tr>\n",
              "      <th>breeder seed</th>\n",
              "      <td>0.31</td>\n",
              "      <td>99.96</td>\n",
              "    </tr>\n",
              "    <tr>\n",
              "      <th>certified seed</th>\n",
              "      <td>0.45</td>\n",
              "      <td>99.27</td>\n",
              "    </tr>\n",
              "    <tr>\n",
              "      <th>foundation seed</th>\n",
              "      <td>0.32</td>\n",
              "      <td>99.67</td>\n",
              "    </tr>\n",
              "    <tr>\n",
              "      <th>nucleus seed</th>\n",
              "      <td>0.55</td>\n",
              "      <td>98.71</td>\n",
              "    </tr>\n",
              "  </tbody>\n",
              "</table>\n",
              "</div>\n",
              "      <button class=\"colab-df-convert\" onclick=\"convertToInteractive('df-308390df-ae6e-4f15-b4bb-6872c52f4247')\"\n",
              "              title=\"Convert this dataframe to an interactive table.\"\n",
              "              style=\"display:none;\">\n",
              "        \n",
              "  <svg xmlns=\"http://www.w3.org/2000/svg\" height=\"24px\"viewBox=\"0 0 24 24\"\n",
              "       width=\"24px\">\n",
              "    <path d=\"M0 0h24v24H0V0z\" fill=\"none\"/>\n",
              "    <path d=\"M18.56 5.44l.94 2.06.94-2.06 2.06-.94-2.06-.94-.94-2.06-.94 2.06-2.06.94zm-11 1L8.5 8.5l.94-2.06 2.06-.94-2.06-.94L8.5 2.5l-.94 2.06-2.06.94zm10 10l.94 2.06.94-2.06 2.06-.94-2.06-.94-.94-2.06-.94 2.06-2.06.94z\"/><path d=\"M17.41 7.96l-1.37-1.37c-.4-.4-.92-.59-1.43-.59-.52 0-1.04.2-1.43.59L10.3 9.45l-7.72 7.72c-.78.78-.78 2.05 0 2.83L4 21.41c.39.39.9.59 1.41.59.51 0 1.02-.2 1.41-.59l7.78-7.78 2.81-2.81c.8-.78.8-2.07 0-2.86zM5.41 20L4 18.59l7.72-7.72 1.47 1.35L5.41 20z\"/>\n",
              "  </svg>\n",
              "      </button>\n",
              "      \n",
              "  <style>\n",
              "    .colab-df-container {\n",
              "      display:flex;\n",
              "      flex-wrap:wrap;\n",
              "      gap: 12px;\n",
              "    }\n",
              "\n",
              "    .colab-df-convert {\n",
              "      background-color: #E8F0FE;\n",
              "      border: none;\n",
              "      border-radius: 50%;\n",
              "      cursor: pointer;\n",
              "      display: none;\n",
              "      fill: #1967D2;\n",
              "      height: 32px;\n",
              "      padding: 0 0 0 0;\n",
              "      width: 32px;\n",
              "    }\n",
              "\n",
              "    .colab-df-convert:hover {\n",
              "      background-color: #E2EBFA;\n",
              "      box-shadow: 0px 1px 2px rgba(60, 64, 67, 0.3), 0px 1px 3px 1px rgba(60, 64, 67, 0.15);\n",
              "      fill: #174EA6;\n",
              "    }\n",
              "\n",
              "    [theme=dark] .colab-df-convert {\n",
              "      background-color: #3B4455;\n",
              "      fill: #D2E3FC;\n",
              "    }\n",
              "\n",
              "    [theme=dark] .colab-df-convert:hover {\n",
              "      background-color: #434B5C;\n",
              "      box-shadow: 0px 1px 3px 1px rgba(0, 0, 0, 0.15);\n",
              "      filter: drop-shadow(0px 1px 2px rgba(0, 0, 0, 0.3));\n",
              "      fill: #FFFFFF;\n",
              "    }\n",
              "  </style>\n",
              "\n",
              "      <script>\n",
              "        const buttonEl =\n",
              "          document.querySelector('#df-308390df-ae6e-4f15-b4bb-6872c52f4247 button.colab-df-convert');\n",
              "        buttonEl.style.display =\n",
              "          google.colab.kernel.accessAllowed ? 'block' : 'none';\n",
              "\n",
              "        async function convertToInteractive(key) {\n",
              "          const element = document.querySelector('#df-308390df-ae6e-4f15-b4bb-6872c52f4247');\n",
              "          const dataTable =\n",
              "            await google.colab.kernel.invokeFunction('convertToInteractive',\n",
              "                                                     [key], {});\n",
              "          if (!dataTable) return;\n",
              "\n",
              "          const docLinkHtml = 'Like what you see? Visit the ' +\n",
              "            '<a target=\"_blank\" href=https://colab.research.google.com/notebooks/data_table.ipynb>data table notebook</a>'\n",
              "            + ' to learn more about interactive tables.';\n",
              "          element.innerHTML = '';\n",
              "          dataTable['output_type'] = 'display_data';\n",
              "          await google.colab.output.renderOutput(dataTable, element);\n",
              "          const docLink = document.createElement('div');\n",
              "          docLink.innerHTML = docLinkHtml;\n",
              "          element.appendChild(docLink);\n",
              "        }\n",
              "      </script>\n",
              "    </div>\n",
              "  </div>\n",
              "  "
            ]
          },
          "metadata": {},
          "execution_count": 19
        }
      ]
    },
    {
      "cell_type": "markdown",
      "source": [
        "Now We want to see the Competitor price with price per seed with distribution graph. So first we will select our two columns in the data frame which are price per seed and the competitor price."
      ],
      "metadata": {
        "id": "CnzHi_2hW2Up"
      }
    },
    {
      "cell_type": "code",
      "source": [
        "df_new = df[['priceperseed', 'competitorprices']]\n",
        "df_new"
      ],
      "metadata": {
        "colab": {
          "base_uri": "https://localhost:8080/",
          "height": 424
        },
        "id": "bVQYWxq6nHr-",
        "outputId": "0cb19aab-ce8c-4f0a-c066-d2df33a51ab5"
      },
      "execution_count": 20,
      "outputs": [
        {
          "output_type": "execute_result",
          "data": {
            "text/plain": [
              "     priceperseed  competitorprices\n",
              "0           77.67             67.26\n",
              "1           56.46             59.76\n",
              "2           94.50              0.29\n",
              "3           17.79              1.44\n",
              "4           51.51             23.95\n",
              "..            ...               ...\n",
              "995         48.77             96.70\n",
              "996         93.10              4.81\n",
              "997         56.49             13.96\n",
              "998         31.83             88.71\n",
              "999         75.62             75.97\n",
              "\n",
              "[1000 rows x 2 columns]"
            ],
            "text/html": [
              "\n",
              "  <div id=\"df-08fda814-6c96-470e-80cf-1b52ddfa0ab5\">\n",
              "    <div class=\"colab-df-container\">\n",
              "      <div>\n",
              "<style scoped>\n",
              "    .dataframe tbody tr th:only-of-type {\n",
              "        vertical-align: middle;\n",
              "    }\n",
              "\n",
              "    .dataframe tbody tr th {\n",
              "        vertical-align: top;\n",
              "    }\n",
              "\n",
              "    .dataframe thead th {\n",
              "        text-align: right;\n",
              "    }\n",
              "</style>\n",
              "<table border=\"1\" class=\"dataframe\">\n",
              "  <thead>\n",
              "    <tr style=\"text-align: right;\">\n",
              "      <th></th>\n",
              "      <th>priceperseed</th>\n",
              "      <th>competitorprices</th>\n",
              "    </tr>\n",
              "  </thead>\n",
              "  <tbody>\n",
              "    <tr>\n",
              "      <th>0</th>\n",
              "      <td>77.67</td>\n",
              "      <td>67.26</td>\n",
              "    </tr>\n",
              "    <tr>\n",
              "      <th>1</th>\n",
              "      <td>56.46</td>\n",
              "      <td>59.76</td>\n",
              "    </tr>\n",
              "    <tr>\n",
              "      <th>2</th>\n",
              "      <td>94.50</td>\n",
              "      <td>0.29</td>\n",
              "    </tr>\n",
              "    <tr>\n",
              "      <th>3</th>\n",
              "      <td>17.79</td>\n",
              "      <td>1.44</td>\n",
              "    </tr>\n",
              "    <tr>\n",
              "      <th>4</th>\n",
              "      <td>51.51</td>\n",
              "      <td>23.95</td>\n",
              "    </tr>\n",
              "    <tr>\n",
              "      <th>...</th>\n",
              "      <td>...</td>\n",
              "      <td>...</td>\n",
              "    </tr>\n",
              "    <tr>\n",
              "      <th>995</th>\n",
              "      <td>48.77</td>\n",
              "      <td>96.70</td>\n",
              "    </tr>\n",
              "    <tr>\n",
              "      <th>996</th>\n",
              "      <td>93.10</td>\n",
              "      <td>4.81</td>\n",
              "    </tr>\n",
              "    <tr>\n",
              "      <th>997</th>\n",
              "      <td>56.49</td>\n",
              "      <td>13.96</td>\n",
              "    </tr>\n",
              "    <tr>\n",
              "      <th>998</th>\n",
              "      <td>31.83</td>\n",
              "      <td>88.71</td>\n",
              "    </tr>\n",
              "    <tr>\n",
              "      <th>999</th>\n",
              "      <td>75.62</td>\n",
              "      <td>75.97</td>\n",
              "    </tr>\n",
              "  </tbody>\n",
              "</table>\n",
              "<p>1000 rows × 2 columns</p>\n",
              "</div>\n",
              "      <button class=\"colab-df-convert\" onclick=\"convertToInteractive('df-08fda814-6c96-470e-80cf-1b52ddfa0ab5')\"\n",
              "              title=\"Convert this dataframe to an interactive table.\"\n",
              "              style=\"display:none;\">\n",
              "        \n",
              "  <svg xmlns=\"http://www.w3.org/2000/svg\" height=\"24px\"viewBox=\"0 0 24 24\"\n",
              "       width=\"24px\">\n",
              "    <path d=\"M0 0h24v24H0V0z\" fill=\"none\"/>\n",
              "    <path d=\"M18.56 5.44l.94 2.06.94-2.06 2.06-.94-2.06-.94-.94-2.06-.94 2.06-2.06.94zm-11 1L8.5 8.5l.94-2.06 2.06-.94-2.06-.94L8.5 2.5l-.94 2.06-2.06.94zm10 10l.94 2.06.94-2.06 2.06-.94-2.06-.94-.94-2.06-.94 2.06-2.06.94z\"/><path d=\"M17.41 7.96l-1.37-1.37c-.4-.4-.92-.59-1.43-.59-.52 0-1.04.2-1.43.59L10.3 9.45l-7.72 7.72c-.78.78-.78 2.05 0 2.83L4 21.41c.39.39.9.59 1.41.59.51 0 1.02-.2 1.41-.59l7.78-7.78 2.81-2.81c.8-.78.8-2.07 0-2.86zM5.41 20L4 18.59l7.72-7.72 1.47 1.35L5.41 20z\"/>\n",
              "  </svg>\n",
              "      </button>\n",
              "      \n",
              "  <style>\n",
              "    .colab-df-container {\n",
              "      display:flex;\n",
              "      flex-wrap:wrap;\n",
              "      gap: 12px;\n",
              "    }\n",
              "\n",
              "    .colab-df-convert {\n",
              "      background-color: #E8F0FE;\n",
              "      border: none;\n",
              "      border-radius: 50%;\n",
              "      cursor: pointer;\n",
              "      display: none;\n",
              "      fill: #1967D2;\n",
              "      height: 32px;\n",
              "      padding: 0 0 0 0;\n",
              "      width: 32px;\n",
              "    }\n",
              "\n",
              "    .colab-df-convert:hover {\n",
              "      background-color: #E2EBFA;\n",
              "      box-shadow: 0px 1px 2px rgba(60, 64, 67, 0.3), 0px 1px 3px 1px rgba(60, 64, 67, 0.15);\n",
              "      fill: #174EA6;\n",
              "    }\n",
              "\n",
              "    [theme=dark] .colab-df-convert {\n",
              "      background-color: #3B4455;\n",
              "      fill: #D2E3FC;\n",
              "    }\n",
              "\n",
              "    [theme=dark] .colab-df-convert:hover {\n",
              "      background-color: #434B5C;\n",
              "      box-shadow: 0px 1px 3px 1px rgba(0, 0, 0, 0.15);\n",
              "      filter: drop-shadow(0px 1px 2px rgba(0, 0, 0, 0.3));\n",
              "      fill: #FFFFFF;\n",
              "    }\n",
              "  </style>\n",
              "\n",
              "      <script>\n",
              "        const buttonEl =\n",
              "          document.querySelector('#df-08fda814-6c96-470e-80cf-1b52ddfa0ab5 button.colab-df-convert');\n",
              "        buttonEl.style.display =\n",
              "          google.colab.kernel.accessAllowed ? 'block' : 'none';\n",
              "\n",
              "        async function convertToInteractive(key) {\n",
              "          const element = document.querySelector('#df-08fda814-6c96-470e-80cf-1b52ddfa0ab5');\n",
              "          const dataTable =\n",
              "            await google.colab.kernel.invokeFunction('convertToInteractive',\n",
              "                                                     [key], {});\n",
              "          if (!dataTable) return;\n",
              "\n",
              "          const docLinkHtml = 'Like what you see? Visit the ' +\n",
              "            '<a target=\"_blank\" href=https://colab.research.google.com/notebooks/data_table.ipynb>data table notebook</a>'\n",
              "            + ' to learn more about interactive tables.';\n",
              "          element.innerHTML = '';\n",
              "          dataTable['output_type'] = 'display_data';\n",
              "          await google.colab.output.renderOutput(dataTable, element);\n",
              "          const docLink = document.createElement('div');\n",
              "          docLink.innerHTML = docLinkHtml;\n",
              "          element.appendChild(docLink);\n",
              "        }\n",
              "      </script>\n",
              "    </div>\n",
              "  </div>\n",
              "  "
            ]
          },
          "metadata": {},
          "execution_count": 20
        }
      ]
    },
    {
      "cell_type": "markdown",
      "source": [
        "And finally here we will draw our graph here."
      ],
      "metadata": {
        "id": "WeH-j21kXOgD"
      }
    },
    {
      "cell_type": "code",
      "source": [
        "lines = df_new.plot.line()"
      ],
      "metadata": {
        "colab": {
          "base_uri": "https://localhost:8080/",
          "height": 261
        },
        "id": "bVZ4VJ3soKZy",
        "outputId": "20a6a6e1-f048-464e-f4a7-bd8d1b0a6282"
      },
      "execution_count": 21,
      "outputs": [
        {
          "output_type": "display_data",
          "data": {
            "text/plain": [
              "<Figure size 540x252 with 1 Axes>"
            ],
            "image/png": "[encoded data removed]"
          },
          "metadata": {
            "needs_background": "light"
          }
        }
      ]
    },
    {
      "cell_type": "markdown",
      "source": [
        "And we observed in our graph that the price per seed and competitor price are fluctuating."
      ],
      "metadata": {
        "id": "iz41GiGdXVR3"
      }
    },
    {
      "cell_type": "code",
      "source": [
        ""
      ],
      "metadata": {
        "id": "shK8lQeXzliz"
      },
      "execution_count": 21,
      "outputs": []
    }
  ]
}